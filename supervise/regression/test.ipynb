{
 "cells": [
  {
   "cell_type": "code",
   "execution_count": 1,
   "metadata": {},
   "outputs": [
    {
     "name": "stdout",
     "output_type": "stream",
     "text": [
      "[[9.95029308e-06 3.98011723e-05 3.98011723e-03 9.95029308e-02\n",
      "  9.95029308e-01]\n",
      " [9.95029308e-06 3.98011723e-05 3.98011723e-03 9.95029308e-02\n",
      "  9.95029308e-01]]\n",
      "scale\n",
      "[[0. 0. 0. 0. 0.]\n",
      " [0. 0. 0. 0. 0.]]\n"
     ]
    }
   ],
   "source": [
    "import numpy\n",
    "from sklearn import preprocessing\n",
    "\n",
    "data = [[1, 4, 400, 10000, 100000], [1, 4, 400, 10000, 100000]]\n",
    "\n",
    "ss = preprocessing.StandardScaler()\n",
    "\n",
    "print(preprocessing.normalize(data)) \n",
    "print(\"scale\")\n",
    "print(preprocessing.scale(data)) \n",
    "\n"
   ]
  },
  {
   "cell_type": "code",
   "execution_count": null,
   "metadata": {},
   "outputs": [],
   "source": []
  }
 ],
 "metadata": {
  "kernelspec": {
   "display_name": "Python 3",
   "language": "python",
   "name": "python3"
  },
  "language_info": {
   "codemirror_mode": {
    "name": "ipython",
    "version": 3
   },
   "file_extension": ".py",
   "mimetype": "text/x-python",
   "name": "python",
   "nbconvert_exporter": "python",
   "pygments_lexer": "ipython3",
   "version": "3.7.3"
  }
 },
 "nbformat": 4,
 "nbformat_minor": 2
}

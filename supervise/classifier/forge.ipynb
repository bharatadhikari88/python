{
 "cells": [
  {
   "cell_type": "code",
   "execution_count": 35,
   "metadata": {},
   "outputs": [],
   "source": [
    "import numpy as np\n",
    "import pandas as pd\n",
    "import matplotlib.pyplot as plt\n",
    "from sklearn.datasets import make_blobs\n",
    "from sklearn.neighbors import KNeighborsClassifier\n",
    "from sklearn.model_selection import train_test_split\n",
    "import mglearn"
   ]
  },
  {
   "cell_type": "code",
   "execution_count": 52,
   "metadata": {},
   "outputs": [
    {
     "name": "stderr",
     "output_type": "stream",
     "text": [
      "/usr/local/lib/python3.7/site-packages/sklearn/utils/deprecation.py:77: DeprecationWarning: Function make_blobs is deprecated; Please import make_blobs directly from scikit-learn\n",
      "  warnings.warn(msg, category=DeprecationWarning)\n"
     ]
    },
    {
     "data": {
      "text/html": [
       "<style  type=\"text/css\" >\n",
       "</style><table id=\"T_18f06c64_6efe_11e9_916d_f2189828ffaa\" ><thead>    <tr>        <th class=\"col_heading level0 col0\" >x</th>        <th class=\"col_heading level0 col1\" >y</th>        <th class=\"col_heading level0 col2\" >label</th>    </tr></thead><tbody>\n",
       "                <tr>\n",
       "                                <td id=\"T_18f06c64_6efe_11e9_916d_f2189828ffaarow0_col0\" class=\"data row0 col0\" >9.96347</td>\n",
       "                        <td id=\"T_18f06c64_6efe_11e9_916d_f2189828ffaarow0_col1\" class=\"data row0 col1\" >4.59677</td>\n",
       "                        <td id=\"T_18f06c64_6efe_11e9_916d_f2189828ffaarow0_col2\" class=\"data row0 col2\" >1</td>\n",
       "            </tr>\n",
       "            <tr>\n",
       "                                <td id=\"T_18f06c64_6efe_11e9_916d_f2189828ffaarow1_col0\" class=\"data row1 col0\" >11.033</td>\n",
       "                        <td id=\"T_18f06c64_6efe_11e9_916d_f2189828ffaarow1_col1\" class=\"data row1 col1\" >-0.168167</td>\n",
       "                        <td id=\"T_18f06c64_6efe_11e9_916d_f2189828ffaarow1_col2\" class=\"data row1 col2\" >0</td>\n",
       "            </tr>\n",
       "            <tr>\n",
       "                                <td id=\"T_18f06c64_6efe_11e9_916d_f2189828ffaarow2_col0\" class=\"data row2 col0\" >11.5416</td>\n",
       "                        <td id=\"T_18f06c64_6efe_11e9_916d_f2189828ffaarow2_col1\" class=\"data row2 col1\" >5.21116</td>\n",
       "                        <td id=\"T_18f06c64_6efe_11e9_916d_f2189828ffaarow2_col2\" class=\"data row2 col2\" >1</td>\n",
       "            </tr>\n",
       "            <tr>\n",
       "                                <td id=\"T_18f06c64_6efe_11e9_916d_f2189828ffaarow3_col0\" class=\"data row3 col0\" >8.69289</td>\n",
       "                        <td id=\"T_18f06c64_6efe_11e9_916d_f2189828ffaarow3_col1\" class=\"data row3 col1\" >1.54322</td>\n",
       "                        <td id=\"T_18f06c64_6efe_11e9_916d_f2189828ffaarow3_col2\" class=\"data row3 col2\" >0</td>\n",
       "            </tr>\n",
       "            <tr>\n",
       "                                <td id=\"T_18f06c64_6efe_11e9_916d_f2189828ffaarow4_col0\" class=\"data row4 col0\" >8.10623</td>\n",
       "                        <td id=\"T_18f06c64_6efe_11e9_916d_f2189828ffaarow4_col1\" class=\"data row4 col1\" >4.28696</td>\n",
       "                        <td id=\"T_18f06c64_6efe_11e9_916d_f2189828ffaarow4_col2\" class=\"data row4 col2\" >0</td>\n",
       "            </tr>\n",
       "            <tr>\n",
       "                                <td id=\"T_18f06c64_6efe_11e9_916d_f2189828ffaarow5_col0\" class=\"data row5 col0\" >8.30989</td>\n",
       "                        <td id=\"T_18f06c64_6efe_11e9_916d_f2189828ffaarow5_col1\" class=\"data row5 col1\" >4.80624</td>\n",
       "                        <td id=\"T_18f06c64_6efe_11e9_916d_f2189828ffaarow5_col2\" class=\"data row5 col2\" >1</td>\n",
       "            </tr>\n",
       "            <tr>\n",
       "                                <td id=\"T_18f06c64_6efe_11e9_916d_f2189828ffaarow6_col0\" class=\"data row6 col0\" >11.9303</td>\n",
       "                        <td id=\"T_18f06c64_6efe_11e9_916d_f2189828ffaarow6_col1\" class=\"data row6 col1\" >4.64866</td>\n",
       "                        <td id=\"T_18f06c64_6efe_11e9_916d_f2189828ffaarow6_col2\" class=\"data row6 col2\" >1</td>\n",
       "            </tr>\n",
       "            <tr>\n",
       "                                <td id=\"T_18f06c64_6efe_11e9_916d_f2189828ffaarow7_col0\" class=\"data row7 col0\" >9.67285</td>\n",
       "                        <td id=\"T_18f06c64_6efe_11e9_916d_f2189828ffaarow7_col1\" class=\"data row7 col1\" >-0.202832</td>\n",
       "                        <td id=\"T_18f06c64_6efe_11e9_916d_f2189828ffaarow7_col2\" class=\"data row7 col2\" >0</td>\n",
       "            </tr>\n",
       "            <tr>\n",
       "                                <td id=\"T_18f06c64_6efe_11e9_916d_f2189828ffaarow8_col0\" class=\"data row8 col0\" >8.3481</td>\n",
       "                        <td id=\"T_18f06c64_6efe_11e9_916d_f2189828ffaarow8_col1\" class=\"data row8 col1\" >5.13416</td>\n",
       "                        <td id=\"T_18f06c64_6efe_11e9_916d_f2189828ffaarow8_col2\" class=\"data row8 col2\" >1</td>\n",
       "            </tr>\n",
       "            <tr>\n",
       "                                <td id=\"T_18f06c64_6efe_11e9_916d_f2189828ffaarow9_col0\" class=\"data row9 col0\" >8.67495</td>\n",
       "                        <td id=\"T_18f06c64_6efe_11e9_916d_f2189828ffaarow9_col1\" class=\"data row9 col1\" >4.47573</td>\n",
       "                        <td id=\"T_18f06c64_6efe_11e9_916d_f2189828ffaarow9_col2\" class=\"data row9 col2\" >1</td>\n",
       "            </tr>\n",
       "            <tr>\n",
       "                                <td id=\"T_18f06c64_6efe_11e9_916d_f2189828ffaarow10_col0\" class=\"data row10 col0\" >9.17748</td>\n",
       "                        <td id=\"T_18f06c64_6efe_11e9_916d_f2189828ffaarow10_col1\" class=\"data row10 col1\" >5.09283</td>\n",
       "                        <td id=\"T_18f06c64_6efe_11e9_916d_f2189828ffaarow10_col2\" class=\"data row10 col2\" >1</td>\n",
       "            </tr>\n",
       "            <tr>\n",
       "                                <td id=\"T_18f06c64_6efe_11e9_916d_f2189828ffaarow11_col0\" class=\"data row11 col0\" >10.2403</td>\n",
       "                        <td id=\"T_18f06c64_6efe_11e9_916d_f2189828ffaarow11_col1\" class=\"data row11 col1\" >2.45544</td>\n",
       "                        <td id=\"T_18f06c64_6efe_11e9_916d_f2189828ffaarow11_col2\" class=\"data row11 col2\" >1</td>\n",
       "            </tr>\n",
       "            <tr>\n",
       "                                <td id=\"T_18f06c64_6efe_11e9_916d_f2189828ffaarow12_col0\" class=\"data row12 col0\" >8.68937</td>\n",
       "                        <td id=\"T_18f06c64_6efe_11e9_916d_f2189828ffaarow12_col1\" class=\"data row12 col1\" >1.4871</td>\n",
       "                        <td id=\"T_18f06c64_6efe_11e9_916d_f2189828ffaarow12_col2\" class=\"data row12 col2\" >0</td>\n",
       "            </tr>\n",
       "            <tr>\n",
       "                                <td id=\"T_18f06c64_6efe_11e9_916d_f2189828ffaarow13_col0\" class=\"data row13 col0\" >8.9223</td>\n",
       "                        <td id=\"T_18f06c64_6efe_11e9_916d_f2189828ffaarow13_col1\" class=\"data row13 col1\" >-0.639932</td>\n",
       "                        <td id=\"T_18f06c64_6efe_11e9_916d_f2189828ffaarow13_col2\" class=\"data row13 col2\" >0</td>\n",
       "            </tr>\n",
       "            <tr>\n",
       "                                <td id=\"T_18f06c64_6efe_11e9_916d_f2189828ffaarow14_col0\" class=\"data row14 col0\" >9.49123</td>\n",
       "                        <td id=\"T_18f06c64_6efe_11e9_916d_f2189828ffaarow14_col1\" class=\"data row14 col1\" >4.33225</td>\n",
       "                        <td id=\"T_18f06c64_6efe_11e9_916d_f2189828ffaarow14_col2\" class=\"data row14 col2\" >1</td>\n",
       "            </tr>\n",
       "            <tr>\n",
       "                                <td id=\"T_18f06c64_6efe_11e9_916d_f2189828ffaarow15_col0\" class=\"data row15 col0\" >9.25694</td>\n",
       "                        <td id=\"T_18f06c64_6efe_11e9_916d_f2189828ffaarow15_col1\" class=\"data row15 col1\" >5.13285</td>\n",
       "                        <td id=\"T_18f06c64_6efe_11e9_916d_f2189828ffaarow15_col2\" class=\"data row15 col2\" >1</td>\n",
       "            </tr>\n",
       "            <tr>\n",
       "                                <td id=\"T_18f06c64_6efe_11e9_916d_f2189828ffaarow16_col0\" class=\"data row16 col0\" >7.99815</td>\n",
       "                        <td id=\"T_18f06c64_6efe_11e9_916d_f2189828ffaarow16_col1\" class=\"data row16 col1\" >4.85251</td>\n",
       "                        <td id=\"T_18f06c64_6efe_11e9_916d_f2189828ffaarow16_col2\" class=\"data row16 col2\" >1</td>\n",
       "            </tr>\n",
       "            <tr>\n",
       "                                <td id=\"T_18f06c64_6efe_11e9_916d_f2189828ffaarow17_col0\" class=\"data row17 col0\" >8.18378</td>\n",
       "                        <td id=\"T_18f06c64_6efe_11e9_916d_f2189828ffaarow17_col1\" class=\"data row17 col1\" >1.29564</td>\n",
       "                        <td id=\"T_18f06c64_6efe_11e9_916d_f2189828ffaarow17_col2\" class=\"data row17 col2\" >0</td>\n",
       "            </tr>\n",
       "            <tr>\n",
       "                                <td id=\"T_18f06c64_6efe_11e9_916d_f2189828ffaarow18_col0\" class=\"data row18 col0\" >8.73371</td>\n",
       "                        <td id=\"T_18f06c64_6efe_11e9_916d_f2189828ffaarow18_col1\" class=\"data row18 col1\" >2.49162</td>\n",
       "                        <td id=\"T_18f06c64_6efe_11e9_916d_f2189828ffaarow18_col2\" class=\"data row18 col2\" >0</td>\n",
       "            </tr>\n",
       "            <tr>\n",
       "                                <td id=\"T_18f06c64_6efe_11e9_916d_f2189828ffaarow19_col0\" class=\"data row19 col0\" >9.32298</td>\n",
       "                        <td id=\"T_18f06c64_6efe_11e9_916d_f2189828ffaarow19_col1\" class=\"data row19 col1\" >5.09841</td>\n",
       "                        <td id=\"T_18f06c64_6efe_11e9_916d_f2189828ffaarow19_col2\" class=\"data row19 col2\" >1</td>\n",
       "            </tr>\n",
       "            <tr>\n",
       "                                <td id=\"T_18f06c64_6efe_11e9_916d_f2189828ffaarow20_col0\" class=\"data row20 col0\" >10.0639</td>\n",
       "                        <td id=\"T_18f06c64_6efe_11e9_916d_f2189828ffaarow20_col1\" class=\"data row20 col1\" >0.990781</td>\n",
       "                        <td id=\"T_18f06c64_6efe_11e9_916d_f2189828ffaarow20_col2\" class=\"data row20 col2\" >0</td>\n",
       "            </tr>\n",
       "            <tr>\n",
       "                                <td id=\"T_18f06c64_6efe_11e9_916d_f2189828ffaarow21_col0\" class=\"data row21 col0\" >9.50049</td>\n",
       "                        <td id=\"T_18f06c64_6efe_11e9_916d_f2189828ffaarow21_col1\" class=\"data row21 col1\" >-0.264303</td>\n",
       "                        <td id=\"T_18f06c64_6efe_11e9_916d_f2189828ffaarow21_col2\" class=\"data row21 col2\" >0</td>\n",
       "            </tr>\n",
       "            <tr>\n",
       "                                <td id=\"T_18f06c64_6efe_11e9_916d_f2189828ffaarow22_col0\" class=\"data row22 col0\" >8.34469</td>\n",
       "                        <td id=\"T_18f06c64_6efe_11e9_916d_f2189828ffaarow22_col1\" class=\"data row22 col1\" >1.63824</td>\n",
       "                        <td id=\"T_18f06c64_6efe_11e9_916d_f2189828ffaarow22_col2\" class=\"data row22 col2\" >0</td>\n",
       "            </tr>\n",
       "            <tr>\n",
       "                                <td id=\"T_18f06c64_6efe_11e9_916d_f2189828ffaarow23_col0\" class=\"data row23 col0\" >9.50169</td>\n",
       "                        <td id=\"T_18f06c64_6efe_11e9_916d_f2189828ffaarow23_col1\" class=\"data row23 col1\" >1.93825</td>\n",
       "                        <td id=\"T_18f06c64_6efe_11e9_916d_f2189828ffaarow23_col2\" class=\"data row23 col2\" >0</td>\n",
       "            </tr>\n",
       "            <tr>\n",
       "                                <td id=\"T_18f06c64_6efe_11e9_916d_f2189828ffaarow24_col0\" class=\"data row24 col0\" >9.15072</td>\n",
       "                        <td id=\"T_18f06c64_6efe_11e9_916d_f2189828ffaarow24_col1\" class=\"data row24 col1\" >5.49832</td>\n",
       "                        <td id=\"T_18f06c64_6efe_11e9_916d_f2189828ffaarow24_col2\" class=\"data row24 col2\" >1</td>\n",
       "            </tr>\n",
       "            <tr>\n",
       "                                <td id=\"T_18f06c64_6efe_11e9_916d_f2189828ffaarow25_col0\" class=\"data row25 col0\" >11.564</td>\n",
       "                        <td id=\"T_18f06c64_6efe_11e9_916d_f2189828ffaarow25_col1\" class=\"data row25 col1\" >1.33894</td>\n",
       "                        <td id=\"T_18f06c64_6efe_11e9_916d_f2189828ffaarow25_col2\" class=\"data row25 col2\" >0</td>\n",
       "            </tr>\n",
       "    </tbody></table>"
      ],
      "text/plain": [
       "<pandas.io.formats.style.Styler at 0x12d07dfd0>"
      ]
     },
     "execution_count": 52,
     "metadata": {},
     "output_type": "execute_result"
    }
   ],
   "source": [
    "#Data Frame for forge data\n",
    "X,y = mglearn.datasets.make_forge();\n",
    "forgeDF = pd.DataFrame(X,columns=['x','y']);\n",
    "forgeDF['label'] = y;\n",
    "forgeDF.style.hide_index()"
   ]
  },
  {
   "cell_type": "code",
   "execution_count": 50,
   "metadata": {},
   "outputs": [
    {
     "data": {
      "image/png": "[encoded data removed]",
      "text/plain": [
       "<Figure size 432x288 with 1 Axes>"
      ]
     },
     "metadata": {
      "needs_background": "light"
     },
     "output_type": "display_data"
    }
   ],
   "source": [
    "# Discrete chart for forge data\n",
    "mglearn.discrete_scatter(np.array(forgeDF.x),np.array(forgeDF.y),np.array(forgeDF.label));\n",
    "plt.legend([0,1],loc=4);\n",
    "plt.xlabel(\"x\");\n",
    "plt.ylabel(\"y\");\n",
    "#mglearn.plots.plot_knn_classification(n_neighbors=5);\n",
    "#pd.plotting.scatter_matrix(forgeDF,figsize=(15,15)); "
   ]
  },
  {
   "cell_type": "code",
   "execution_count": 87,
   "metadata": {},
   "outputs": [
    {
     "data": {
      "text/html": [
       "<div>\n",
       "<style scoped>\n",
       "    .dataframe tbody tr th:only-of-type {\n",
       "        vertical-align: middle;\n",
       "    }\n",
       "\n",
       "    .dataframe tbody tr th {\n",
       "        vertical-align: top;\n",
       "    }\n",
       "\n",
       "    .dataframe thead th {\n",
       "        text-align: right;\n",
       "    }\n",
       "</style>\n",
       "<table border=\"1\" class=\"dataframe\">\n",
       "  <thead>\n",
       "    <tr style=\"text-align: right;\">\n",
       "      <th></th>\n",
       "      <th>Neighbour</th>\n",
       "      <th>Training_Score</th>\n",
       "      <th>Test_Score</th>\n",
       "    </tr>\n",
       "  </thead>\n",
       "  <tbody>\n",
       "    <tr>\n",
       "      <th>OverFitting</th>\n",
       "      <td>1</td>\n",
       "      <td>1.000000</td>\n",
       "      <td>0.714286</td>\n",
       "    </tr>\n",
       "    <tr>\n",
       "      <th>Generalize</th>\n",
       "      <td>3</td>\n",
       "      <td>0.947368</td>\n",
       "      <td>0.857143</td>\n",
       "    </tr>\n",
       "    <tr>\n",
       "      <th>UnderFitting</th>\n",
       "      <td>13</td>\n",
       "      <td>0.894737</td>\n",
       "      <td>0.857143</td>\n",
       "    </tr>\n",
       "  </tbody>\n",
       "</table>\n",
       "</div>"
      ],
      "text/plain": [
       "              Neighbour  Training_Score  Test_Score\n",
       "OverFitting           1        1.000000    0.714286\n",
       "Generalize            3        0.947368    0.857143\n",
       "UnderFitting         13        0.894737    0.857143"
      ]
     },
     "execution_count": 87,
     "metadata": {},
     "output_type": "execute_result"
    }
   ],
   "source": [
    "#KNN Classifier\n",
    "Xtrain,Xtest,ytrain,ytest = train_test_split(X,y,random_state=7);\n",
    "neighbour = [1,3,13];\n",
    "trainingScore = [];\n",
    "testScore = [];\n",
    "classifiers = [];\n",
    "\n",
    "for i in neighbour:\n",
    "    classifier = KNeighborsClassifier(n_neighbors=i).fit(Xtrain,ytrain);\n",
    "    classifiers.append(classifier);\n",
    "    trainingScore.append(classifier.score(Xtrain,ytrain));\n",
    "    testScore.append(classifier.score(Xtest,ytest))\n",
    "    \n",
    "#Overfitting means model complex and tightly coupled with train data\n",
    "#UnderFitting means model is same and data is redunant or features values are not well define.\n",
    "neighbourDF = pd.DataFrame(index=[\"OverFitting\",\"Generalize\",\"UnderFitting\"]);\n",
    "neighbourDF[\"Neighbour\"] = neighbour;\n",
    "neighbourDF[\"Training_Score\"] = trainingScore;\n",
    "neighbourDF[\"Test_Score\"] = testScore;\n",
    "neighbourDF"
   ]
  },
  {
   "cell_type": "code",
   "execution_count": 92,
   "metadata": {},
   "outputs": [
    {
     "data": {
      "image/png": "[encoded data removed]",
      "text/plain": [
       "<Figure size 432x288 with 1 Axes>"
      ]
     },
     "metadata": {
      "needs_background": "light"
     },
     "output_type": "display_data"
    }
   ],
   "source": [
    "#Graphlical fitting\n",
    "plt.plot(neighbourDF[\"Neighbour\"],neighbourDF[\"Training_Score\"],label=\"Training Accuracy\");\n",
    "plt.plot(neighbourDF[\"Neighbour\"],neighbourDF[\"Test_Score\"],label=\"Test Accuracy\");\n",
    "plt.xlabel = \"Neighbour\";\n",
    "plt.ylabel = \"Score\";\n",
    "plt.legend([\"Training\",\"Test\"],loc=4);"
   ]
  },
  {
   "cell_type": "code",
   "execution_count": 85,
   "metadata": {},
   "outputs": [
    {
     "data": {
      "image/png": "[encoded data removed]",
      "text/plain": [
       "<Figure size 1080x360 with 3 Axes>"
      ]
     },
     "metadata": {},
     "output_type": "display_data"
    }
   ],
   "source": [
    "#Decision Boundary\n",
    "fig, axes = plt.subplots(1,3,figsize=(15,5));\n",
    "for i in range(0,3):\n",
    "    mglearn.plots.plot_2d_separator(classifiers[i],X,fill=True,eps=0.5,alpha=0.4,ax = axes[i]);\n",
    "    mglearn.discrete_scatter(np.array(forgeDF.x),np.array(forgeDF.y),np.array(forgeDF.label),ax = axes[i]);\n",
    "    axes[i].legend([0,1],loc=4);\n",
    "    axes[i].set_xlabel(\"x\");\n",
    "    axes[i].set_ylabel(\"y\");\n"
   ]
  },
  {
   "cell_type": "code",
   "execution_count": null,
   "metadata": {},
   "outputs": [],
   "source": []
  },
  {
   "cell_type": "code",
   "execution_count": null,
   "metadata": {},
   "outputs": [],
   "source": []
  },
  {
   "cell_type": "code",
   "execution_count": null,
   "metadata": {},
   "outputs": [],
   "source": []
  },
  {
   "cell_type": "code",
   "execution_count": null,
   "metadata": {},
   "outputs": [],
   "source": []
  },
  {
   "cell_type": "code",
   "execution_count": null,
   "metadata": {},
   "outputs": [],
   "source": []
  },
  {
   "cell_type": "code",
   "execution_count": null,
   "metadata": {},
   "outputs": [],
   "source": []
  },
  {
   "cell_type": "code",
   "execution_count": null,
   "metadata": {},
   "outputs": [],
   "source": []
  },
  {
   "cell_type": "code",
   "execution_count": null,
   "metadata": {},
   "outputs": [],
   "source": []
  },
  {
   "cell_type": "code",
   "execution_count": null,
   "metadata": {},
   "outputs": [],
   "source": []
  },
  {
   "cell_type": "code",
   "execution_count": null,
   "metadata": {},
   "outputs": [],
   "source": []
  },
  {
   "cell_type": "code",
   "execution_count": null,
   "metadata": {},
   "outputs": [],
   "source": []
  }
 ],
 "metadata": {
  "kernelspec": {
   "display_name": "Python 3",
   "language": "python",
   "name": "python3"
  },
  "language_info": {
   "codemirror_mode": {
    "name": "ipython",
    "version": 3
   },
   "file_extension": ".py",
   "mimetype": "text/x-python",
   "name": "python",
   "nbconvert_exporter": "python",
   "pygments_lexer": "ipython3",
   "version": "3.7.3"
  }
 },
 "nbformat": 4,
 "nbformat_minor": 2
}

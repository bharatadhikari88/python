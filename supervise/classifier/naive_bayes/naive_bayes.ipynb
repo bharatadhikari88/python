{
 "cells": [
  {
   "cell_type": "markdown",
   "metadata": {},
   "source": [
    "### Calculate probability using frequency table on train data then used these probabilty to find out the probabilty of predict data.\n",
    "## Bayes theorm based on conditional probability P(A/B) = P(B/A)*P(A)/P(B)\n",
    "\n",
    "More details :- https://www.youtube.com/watch?v=l3dZ6ZNFjo0\n",
    "\n",
    "## Fast and scalable.\n"
   ]
  },
  {
   "cell_type": "code",
   "execution_count": 42,
   "metadata": {},
   "outputs": [],
   "source": [
    "import numpy as np\n",
    "import pandas as pd\n",
    "from sklearn.datasets import fetch_20newsgroups\n",
    "from sklearn.feature_extraction.text import TfidfVectorizer"
   ]
  },
  {
   "cell_type": "code",
   "execution_count": 65,
   "metadata": {},
   "outputs": [
    {
     "name": "stdout",
     "output_type": "stream",
     "text": [
      "  (0, 24)\t0.19205531989934396\n",
      "  (0, 38)\t0.12803687993289598\n",
      "  (0, 79)\t0.12803687993289598\n",
      "  (0, 77)\t0.12803687993289598\n",
      "  (0, 21)\t0.12803687993289598\n",
      "  (0, 84)\t0.12803687993289598\n",
      "  (0, 47)\t0.06401843996644799\n",
      "  (0, 74)\t0.06401843996644799\n",
      "  (0, 69)\t0.06401843996644799\n",
      "  (0, 82)\t0.06401843996644799\n",
      "  (0, 14)\t0.32009219983223997\n",
      "  (0, 34)\t0.19205531989934396\n",
      "  (0, 75)\t0.32009219983223997\n",
      "  (0, 50)\t0.06401843996644799\n",
      "  (0, 59)\t0.06401843996644799\n",
      "  (0, 29)\t0.06401843996644799\n",
      "  (0, 61)\t0.06401843996644799\n",
      "  (0, 54)\t0.06401843996644799\n",
      "  (0, 78)\t0.06401843996644799\n",
      "  (0, 51)\t0.19205531989934396\n",
      "  (0, 44)\t0.06401843996644799\n",
      "  (0, 15)\t0.06401843996644799\n",
      "  (0, 57)\t0.06401843996644799\n",
      "  (0, 39)\t0.06401843996644799\n",
      "  (0, 0)\t0.06401843996644799\n",
      "  :\t:\n",
      "  (0, 13)\t0.06401843996644799\n",
      "  (0, 70)\t0.06401843996644799\n",
      "  (0, 46)\t0.06401843996644799\n",
      "  (0, 48)\t0.06401843996644799\n",
      "  (0, 22)\t0.06401843996644799\n",
      "  (0, 67)\t0.06401843996644799\n",
      "  (0, 86)\t0.06401843996644799\n",
      "  (0, 60)\t0.06401843996644799\n",
      "  (0, 42)\t0.06401843996644799\n",
      "  (0, 28)\t0.06401843996644799\n",
      "  (0, 53)\t0.06401843996644799\n",
      "  (0, 83)\t0.06401843996644799\n",
      "  (0, 33)\t0.06401843996644799\n",
      "  (0, 87)\t0.12803687993289598\n",
      "  (0, 27)\t0.06401843996644799\n",
      "  (0, 26)\t0.06401843996644799\n",
      "  (0, 41)\t0.06401843996644799\n",
      "  (0, 58)\t0.06401843996644799\n",
      "  (0, 43)\t0.06401843996644799\n",
      "  (0, 71)\t0.06401843996644799\n",
      "  (0, 31)\t0.06401843996644799\n",
      "  (0, 9)\t0.06401843996644799\n",
      "  (0, 11)\t0.06401843996644799\n",
      "  (0, 88)\t0.06401843996644799\n",
      "  (0, 49)\t0.06401843996644799\n"
     ]
    }
   ],
   "source": [
    "data = fetch_20newsgroups();\n",
    "vct = TfidfVectorizer();\n",
    "X = vct.fit_transform([data.data[0]])\n",
    "print(X)\n",
    "\n",
    "\n"
   ]
  }
 ],
 "metadata": {
  "kernelspec": {
   "display_name": "Python 3",
   "language": "python",
   "name": "python3"
  },
  "language_info": {
   "codemirror_mode": {
    "name": "ipython",
    "version": 3
   },
   "file_extension": ".py",
   "mimetype": "text/x-python",
   "name": "python",
   "nbconvert_exporter": "python",
   "pygments_lexer": "ipython3",
   "version": "3.7.3"
  }
 },
 "nbformat": 4,
 "nbformat_minor": 2
}

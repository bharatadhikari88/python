{
 "cells": [
  {
   "cell_type": "code",
   "execution_count": null,
   "metadata": {},
   "outputs": [],
   "source": []
  },
  {
   "cell_type": "code",
   "execution_count": 1,
   "metadata": {},
   "outputs": [
    {
     "name": "stdout",
     "output_type": "stream",
     "text": [
      "Forge Data Frame : \n",
      "            x         y  label\n",
      "0    9.963466  4.596765      1\n",
      "1   11.032954 -0.168167      0\n",
      "2   11.541558  5.211161      1\n",
      "3    8.692890  1.543220      0\n",
      "4    8.106227  4.286960      0\n",
      "5    8.309889  4.806240      1\n",
      "6   11.930271  4.648663      1\n",
      "7    9.672847 -0.202832      0\n",
      "8    8.348103  5.134156      1\n",
      "9    8.674947  4.475731      1\n",
      "10   9.177484  5.092832      1\n",
      "11  10.240289  2.455444      1\n",
      "12   8.689371  1.487096      0\n",
      "13   8.922295 -0.639932      0\n",
      "14   9.491235  4.332248      1\n",
      "15   9.256942  5.132849      1\n",
      "16   7.998153  4.852505      1\n",
      "17   8.183781  1.295642      0\n",
      "18   8.733709  2.491624      0\n",
      "19   9.322983  5.098406      1\n",
      "20  10.063938  0.990781      0\n",
      "21   9.500490 -0.264303      0\n",
      "22   8.344688  1.638243      0\n",
      "23   9.501693  1.938246      0\n",
      "24   9.150723  5.498322      1\n",
      "25  11.563957  1.338940      0\n"
     ]
    },
    {
     "name": "stderr",
     "output_type": "stream",
     "text": [
      "/usr/local/lib/python3.7/site-packages/sklearn/utils/deprecation.py:77: DeprecationWarning: Function make_blobs is deprecated; Please import make_blobs directly from scikit-learn\n",
      "  warnings.warn(msg, category=DeprecationWarning)\n"
     ]
    }
   ],
   "source": [
    "import mglearn\n",
    "import numpy as np\n",
    "import pandas as pd\n",
    "import matplotlib.pyplot as plt\n",
    "from sklearn.datasets import make_blobs\n",
    "\n",
    "\n",
    "X,y = mglearn.datasets.make_forge(); \n",
    "\n",
    "forgeDF = pd.DataFrame(X, columns=['x','y']);\n",
    "forgeDF['label'] = y;\n",
    "print(\"Forge Data Frame : \\n{}\".format(forgeDF));\n",
    "\n",
    "mglearn.discrete_scatter(np.array(forgeDF.x),np.array(forgeDF.y),np.array(forgeDF.label));\n",
    "plt.legend([\"0\",\"1\"],loc=4);\n",
    "plt.xlabel(\"x\");\n",
    "plt.ylabel(\"y\");\n",
    "#mglearn.plots.plot_knn_classification(n_neighbors=5);\n",
    "#pd.plotting.scatter_matrix(forgeDF,figsize=(15,15));"
   ]
  },
  {
   "cell_type": "code",
   "execution_count": null,
   "metadata": {},
   "outputs": [],
   "source": []
  },
  {
   "cell_type": "code",
   "execution_count": null,
   "metadata": {},
   "outputs": [],
   "source": []
  },
  {
   "cell_type": "code",
   "execution_count": null,
   "metadata": {},
   "outputs": [],
   "source": []
  },
  {
   "cell_type": "code",
   "execution_count": null,
   "metadata": {},
   "outputs": [],
   "source": []
  },
  {
   "cell_type": "code",
   "execution_count": null,
   "metadata": {},
   "outputs": [],
   "source": []
  },
  {
   "cell_type": "code",
   "execution_count": null,
   "metadata": {},
   "outputs": [],
   "source": []
  },
  {
   "cell_type": "code",
   "execution_count": null,
   "metadata": {},
   "outputs": [],
   "source": []
  },
  {
   "cell_type": "code",
   "execution_count": null,
   "metadata": {},
   "outputs": [],
   "source": []
  },
  {
   "cell_type": "code",
   "execution_count": null,
   "metadata": {},
   "outputs": [],
   "source": []
  },
  {
   "cell_type": "code",
   "execution_count": null,
   "metadata": {},
   "outputs": [],
   "source": []
  },
  {
   "cell_type": "code",
   "execution_count": null,
   "metadata": {},
   "outputs": [],
   "source": []
  },
  {
   "cell_type": "code",
   "execution_count": null,
   "metadata": {},
   "outputs": [],
   "source": []
  },
  {
   "cell_type": "code",
   "execution_count": null,
   "metadata": {},
   "outputs": [],
   "source": []
  }
 ],
 "metadata": {
  "kernelspec": {
   "display_name": "Python 3",
   "language": "python",
   "name": "python3"
  },
  "language_info": {
   "codemirror_mode": {
    "name": "ipython",
    "version": 3
   },
   "file_extension": ".py",
   "mimetype": "text/x-python",
   "name": "python",
   "nbconvert_exporter": "python",
   "pygments_lexer": "ipython3",
   "version": "3.7.3"
  }
 },
 "nbformat": 4,
 "nbformat_minor": 2
}

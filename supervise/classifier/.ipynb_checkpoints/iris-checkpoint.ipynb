{
 "cells": [
  {
   "cell_type": "code",
   "execution_count": 1,
   "metadata": {},
   "outputs": [
    {
     "name": "stdout",
     "output_type": "stream",
     "text": [
      "Data type :<class 'sklearn.utils.Bunch'>\n",
      "Iris keys : dict_keys(['data', 'target', 'target_names', 'DESCR', 'feature_names', 'filename'])\n",
      "Iris features : ['sepal l', 'sepal w', 'petal l', 'petal w']\n",
      "Iris type : ['setosa' 'versicolor' 'virginica']\n",
      "Sample Data :\n",
      " [[5.1 3.5 1.4 0.2]\n",
      " [4.9 3.  1.4 0.2]\n",
      " [4.7 3.2 1.3 0.2]\n",
      " [4.6 3.1 1.5 0.2]\n",
      " [5.  3.6 1.4 0.2]]\n",
      "Target :[0 0 0 0 0]\n",
      "Data frame before shuffle : \n",
      "         sepal l  sepal w  petal l  petal w\n",
      "setosa      5.1      3.5      1.4      0.2\n",
      "setosa      4.9      3.0      1.4      0.2\n",
      "setosa      4.7      3.2      1.3      0.2\n",
      "setosa      4.6      3.1      1.5      0.2\n",
      "setosa      5.0      3.6      1.4      0.2\n",
      "\n",
      "Predict data mismatch frame : \n",
      "            sepal l  sepal w  petal l  petal w Actual Type\n",
      "virginica      5.9      3.2      4.8      1.8  versicolor\n",
      "virginica      6.3      2.5      4.9      1.5  versicolor\n",
      "Accuracy = 0.95\n",
      "Accuracy using classifier = 0.95\n"
     ]
    }
   ],
   "source": [
    "from sklearn.datasets import load_iris\n",
    "from sklearn.model_selection import train_test_split\n",
    "from sklearn.neighbors import KNeighborsClassifier\n",
    "import pandas as pd\n",
    "import numpy as np\n",
    "\n",
    "iris = load_iris();\n",
    "data = iris[\"data\"];\n",
    "features = list(map(lambda s : s[:7],iris[\"feature_names\"]));\n",
    "label = iris[\"target_names\"];\n",
    "\n",
    "number_of_records = 100;\n",
    "\n",
    "print(\"Data type :{}\".format(type(iris)));\n",
    "print(\"Iris keys : {}\".format(iris.keys()));\n",
    "print(\"Iris features : {}\".format(features));\n",
    "print(\"Iris type : {}\".format(label));\n",
    "print(\"Sample Data :\\n {}\".format(data[:5]));\n",
    "print(\"Target :{}\".format(iris[\"target\"][:5]));\n",
    "\n",
    "\n",
    "df = pd.DataFrame(data[:5],columns=features,index=label[iris[\"target\"][:5]]);\n",
    "print(\"Data frame before shuffle : \\n {}\".format(df));\n",
    "\n",
    "#iris data shuffling\n",
    "Xtrain,Xtest,ytrain,ytest = train_test_split(data,iris[\"target\"],random_state=5);\n",
    "\n",
    "trainDF = pd.DataFrame(Xtrain[:number_of_records],columns=features,index=label[ytrain[:number_of_records]]);\n",
    "testDF = pd.DataFrame(Xtest[:number_of_records],columns=features,index=label[ytest[:number_of_records]]);\n",
    "\n",
    "#print(\"Train frame after shuffle : \\n {}\".format(trainDF));\n",
    "\n",
    "#print(\"Test frame after shuffle : \\n {}\".format(testDF));\n",
    "\n",
    "colors = [\"#0392cf\", \"#7bc043\", \"#ee4035\"];\n",
    "#number of colors must be equal to rows\n",
    "colors = list(map(lambda x: colors[x],ytrain[:number_of_records]));\n",
    "\n",
    "pd.plotting.scatter_matrix(trainDF,c=colors,figsize=(15,15));\n",
    "\n",
    "\n",
    "#creating classifier with train data\n",
    "classifier = KNeighborsClassifier(n_neighbors= 5);\n",
    "classifier.fit(Xtrain,ytrain);\n",
    "\n",
    "ypredict = classifier.predict(Xtest);\n",
    "\n",
    "predictDF = pd.DataFrame(Xtest,columns=features,index=label[ypredict]);\n",
    "predictDF[\"Actual Type\"] = label[ytest];\n",
    " \n",
    "#print(\"\\nPredict data frame : \\n {}\".format(predictDF));\n",
    "\n",
    "mismatchDataFrame = predictDF.loc[predictDF[\"Actual Type\"] != predictDF.index];\n",
    "\n",
    "print(\"\\nPredict data mismatch frame : \\n {}\".format(mismatchDataFrame));\n",
    "\n",
    "print(\"Accuracy = {:.2f}\".format(np.mean(ypredict == ytest)));\n",
    "\n",
    "print(\"Accuracy using classifier = {:.2f}\".format(classifier.score(Xtest,ytest)));\n",
    "\n"
   ]
  },
  {
   "cell_type": "code",
   "execution_count": null,
   "metadata": {},
   "outputs": [],
   "source": []
  },
  {
   "cell_type": "code",
   "execution_count": null,
   "metadata": {},
   "outputs": [],
   "source": []
  },
  {
   "cell_type": "code",
   "execution_count": null,
   "metadata": {},
   "outputs": [],
   "source": []
  },
  {
   "cell_type": "code",
   "execution_count": null,
   "metadata": {},
   "outputs": [],
   "source": []
  },
  {
   "cell_type": "code",
   "execution_count": null,
   "metadata": {},
   "outputs": [],
   "source": []
  }
 ],
 "metadata": {
  "kernelspec": {
   "display_name": "Python 3",
   "language": "python",
   "name": "python3"
  },
  "language_info": {
   "codemirror_mode": {
    "name": "ipython",
    "version": 3
   },
   "file_extension": ".py",
   "mimetype": "text/x-python",
   "name": "python",
   "nbconvert_exporter": "python",
   "pygments_lexer": "ipython3",
   "version": "3.7.3"
  }
 },
 "nbformat": 4,
 "nbformat_minor": 2
}

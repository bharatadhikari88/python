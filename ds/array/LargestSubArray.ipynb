{
 "cells": [
  {
   "cell_type": "markdown",
   "metadata": {},
   "source": [
    "## Given an array of integers, find largest sub-array formed by consecutive integers. The sub-array should contain all distinct values."
   ]
  },
  {
   "cell_type": "code",
   "execution_count": 88,
   "metadata": {},
   "outputs": [],
   "source": [
    "def isConsecutive(min, max, len):\n",
    "    return max - min + 1 == len  # [5 - 11] = 11 - 5 = 6 + 1 = 7\n",
    "\n",
    "\n",
    "def isDuplicate(numMap, val):\n",
    "    return numMap.get(val) != None\n",
    "\n",
    "\n",
    "def largestSubArray(arr):\n",
    "    start = -1\n",
    "    end = -1\n",
    "    for i in range(len(arr)):\n",
    "        numMap = {}\n",
    "        minIndex = -1\n",
    "        maxIndex = -1\n",
    "        length = 0\n",
    "        for index, item in enumerate(arr[i:], start=i):\n",
    "            length += 1\n",
    "            if isDuplicate(numMap, item):\n",
    "                break\n",
    "                \n",
    "            if minIndex == -1 or item < arr[minIndex]:\n",
    "                minIndex = index\n",
    "            if maxIndex == -1 or item > arr[maxIndex]:\n",
    "                maxIndex = index\n",
    "                \n",
    "            if length > end - start + 1 and isConsecutive(arr[minIndex], arr[maxIndex], length):\n",
    "                start = i\n",
    "                end = index\n",
    "                \n",
    "            numMap[item] = item;\n",
    "\n",
    "    display(arr, start, end)\n",
    "    \n",
    "def display(arr, min, max):\n",
    "    for a in arr[min:max+1]:\n",
    "        print(a)"
   ]
  },
  {
   "cell_type": "code",
   "execution_count": 89,
   "metadata": {},
   "outputs": [
    {
     "name": "stdout",
     "output_type": "stream",
     "text": [
      "Problem 1\n",
      "0\n",
      "2\n",
      "1\n",
      "4\n",
      "3\n",
      "Problem 2\n",
      "10\n",
      "11\n",
      "Problem 3\n",
      "12\n",
      "11\n",
      "Problem 4\n",
      "90\n",
      "92\n",
      "94\n",
      "93\n",
      "91\n",
      "Problem 5\n",
      "0\n",
      "2\n",
      "1\n",
      "4\n",
      "3\n"
     ]
    }
   ],
   "source": [
    "print(\"Problem 1\")\n",
    "largestSubArray([2, 0, 2, 1, 4, 3, 1, 0])\n",
    "print(\"Problem 2\")\n",
    "largestSubArray([10, 12, 12, 10, 10, 11, 10])\n",
    "print(\"Problem 3\")\n",
    "largestSubArray([4, 12, 11, 20])\n",
    "print(\"Problem 4\")\n",
    "largestSubArray([1, 56, 58, 57, 90, 92, 94, 93, 91, 45])\n",
    "print(\"Problem 5\")\n",
    "largestSubArray([2, 0, 2, 1, 4, 3])"
   ]
  },
  {
   "cell_type": "code",
   "execution_count": null,
   "metadata": {},
   "outputs": [],
   "source": []
  }
 ],
 "metadata": {
  "kernelspec": {
   "display_name": "Python 3",
   "language": "python",
   "name": "python3"
  },
  "language_info": {
   "codemirror_mode": {
    "name": "ipython",
    "version": 3
   },
   "file_extension": ".py",
   "mimetype": "text/x-python",
   "name": "python",
   "nbconvert_exporter": "python",
   "pygments_lexer": "ipython3",
   "version": "3.7.3"
  }
 },
 "nbformat": 4,
 "nbformat_minor": 2
}

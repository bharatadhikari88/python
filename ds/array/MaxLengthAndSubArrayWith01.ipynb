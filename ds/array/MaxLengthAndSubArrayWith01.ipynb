{
 "cells": [
  {
   "cell_type": "markdown",
   "metadata": {},
   "source": [
    "## Find maximum length having equal number of 0’s and 1’s\n",
    "\n",
    "Given a binary array. We need to find the length of longest balanced sub array. A sub array is balanced if it contains equal number of 0 and 1."
   ]
  },
  {
   "cell_type": "code",
   "execution_count": 10,
   "metadata": {},
   "outputs": [],
   "source": [
    "def lengthOfBalancedSubArray(arr):\n",
    "    count0 = 0\n",
    "    count1 = 0\n",
    "    for a in arr:\n",
    "        if a == 0:\n",
    "            count0 += 1\n",
    "        else:\n",
    "            count1 += 1\n",
    "    print( {True: count0*2,False: count1*2}[count0 < count1] )\n",
    "        "
   ]
  },
  {
   "cell_type": "code",
   "execution_count": 11,
   "metadata": {},
   "outputs": [
    {
     "name": "stdout",
     "output_type": "stream",
     "text": [
      "Problem 1\n",
      "6\n",
      "Problem 2\n",
      "0\n",
      "Problem 3\n",
      "4\n"
     ]
    }
   ],
   "source": [
    "print(\"Problem 1\")\n",
    "lengthOfBalancedSubArray([1, 0, 1, 1, 1, 0, 0])\n",
    "print(\"Problem 2\")\n",
    "lengthOfBalancedSubArray([1, 1, 1, 1])\n",
    "print(\"Problem 3\")\n",
    "lengthOfBalancedSubArray([0, 0, 1, 1, 0])"
   ]
  },
  {
   "cell_type": "markdown",
   "metadata": {},
   "source": [
    "## Find maximum length sub-array having equal number of 0’s and 1’s\n",
    "Given an binary array containing 0 and 1, find maximum length sub-array having equal number of 0’s and 1’s."
   ]
  },
  {
   "cell_type": "code",
   "execution_count": 60,
   "metadata": {},
   "outputs": [],
   "source": [
    "# approach :- change 0 to -1 and find the longest array with sum 0\n",
    "\n",
    "def balancedSubArray(arr):\n",
    "    arr = map(lambda a: {True: -1, False: 1}[a == 0],arr)\n",
    "    sumMap = {0:-1}\n",
    "    sum = 0\n",
    "    start = -1\n",
    "    end = -1\n",
    "    for index,a in enumerate(arr,start=0):\n",
    "        sum += a\n",
    "        if sumMap.get(sum) != None:\n",
    "            # when sum repeat check old length is smaller than current\n",
    "            if(end - start + 1 < index - sumMap.get(sum) + 1):\n",
    "                start = sumMap.get(sum) + 1\n",
    "                end = index\n",
    "        else:\n",
    "            sumMap[sum] = index\n",
    "    \n",
    "    if start != -1 and end != -1:\n",
    "        print(\"{} - {}\".format(start,end))\n",
    "    else:\n",
    "        print(\"None\")\n",
    "            "
   ]
  },
  {
   "cell_type": "code",
   "execution_count": 62,
   "metadata": {},
   "outputs": [
    {
     "name": "stdout",
     "output_type": "stream",
     "text": [
      "Problem 1\n",
      "1 - 6\n",
      "Problem 2\n",
      "None\n",
      "Problem 3\n",
      "1 - 4\n",
      "Problem 4\n",
      "0 - 1\n",
      "Problem 4\n",
      "2 - 5\n"
     ]
    }
   ],
   "source": [
    "print(\"Problem 1\")\n",
    "balancedSubArray([1, 0, 1, 1, 1, 0, 0])\n",
    "print(\"Problem 2\")\n",
    "balancedSubArray([1, 1, 1, 1])\n",
    "print(\"Problem 3\")\n",
    "balancedSubArray([0, 0, 1, 1, 0])\n",
    "print(\"Problem 4\")\n",
    "balancedSubArray([1,0])\n",
    "print(\"Problem 4\")\n",
    "balancedSubArray([ 0, 0, 1, 0, 1, 0, 0 ])"
   ]
  }
 ],
 "metadata": {
  "kernelspec": {
   "display_name": "Python 3",
   "language": "python",
   "name": "python3"
  },
  "language_info": {
   "codemirror_mode": {
    "name": "ipython",
    "version": 3
   },
   "file_extension": ".py",
   "mimetype": "text/x-python",
   "name": "python",
   "nbconvert_exporter": "python",
   "pygments_lexer": "ipython3",
   "version": "3.7.3"
  }
 },
 "nbformat": 4,
 "nbformat_minor": 2
}

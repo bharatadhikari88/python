{
 "cells": [
  {
   "cell_type": "markdown",
   "metadata": {},
   "source": [
    "## Given an unsorted array of integers, find a pair with given sum in it."
   ]
  },
  {
   "cell_type": "markdown",
   "metadata": {},
   "source": [
    "## Sorting Solution:-  sort O(nlogn) and search(n) = nlogn + n = nlogn"
   ]
  },
  {
   "cell_type": "code",
   "execution_count": 5,
   "metadata": {},
   "outputs": [
    {
     "name": "stdout",
     "output_type": "stream",
     "text": [
      "2 , 8\n",
      "2 , 8\n",
      "3 , 7\n"
     ]
    }
   ],
   "source": [
    "arr = [8, 8, 7, 2, 2, 5, 3, 1]\n",
    "N = 10\n",
    "arr.sort()\n",
    "start = 0\n",
    "end = len(arr) - 1\n",
    "\n",
    "while start < end :\n",
    "    sum = arr[start] + arr[end]\n",
    "    if( sum == N):\n",
    "        print(\"{0} , {1}\".format(arr[start],arr[end]))\n",
    "        start += 1\n",
    "    elif( sum < N ):\n",
    "        start += 1\n",
    "    else:\n",
    "        end -= 1"
   ]
  },
  {
   "cell_type": "markdown",
   "metadata": {},
   "source": [
    "## Hashing solution using O(n)"
   ]
  },
  {
   "cell_type": "code",
   "execution_count": 14,
   "metadata": {},
   "outputs": [
    {
     "name": "stdout",
     "output_type": "stream",
     "text": [
      "8 , 2\n",
      "8 , 2\n",
      "7 , 3\n"
     ]
    }
   ],
   "source": [
    "arr = [8, 8, 7, 2, 2, 5, 3, 1]\n",
    "N = 10\n",
    "obj = {}\n",
    "\n",
    "for i in arr:\n",
    "    if( obj.get(N - i) == True):\n",
    "        print(\"{0} , {1}\".format(N - i,i))\n",
    "    else:\n",
    "        obj[i] = True\n",
    "        "
   ]
  }
 ],
 "metadata": {
  "kernelspec": {
   "display_name": "Python 3",
   "language": "python",
   "name": "python3"
  },
  "language_info": {
   "codemirror_mode": {
    "name": "ipython",
    "version": 3
   },
   "file_extension": ".py",
   "mimetype": "text/x-python",
   "name": "python",
   "nbconvert_exporter": "python",
   "pygments_lexer": "ipython3",
   "version": "3.7.3"
  }
 },
 "nbformat": 4,
 "nbformat_minor": 2
}

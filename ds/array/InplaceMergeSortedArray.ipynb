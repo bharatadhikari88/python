{
 "cells": [
  {
   "cell_type": "markdown",
   "metadata": {},
   "source": [
    "## In-place merge two sorted arrays\n"
   ]
  },
  {
   "cell_type": "code",
   "execution_count": 1,
   "metadata": {},
   "outputs": [],
   "source": [
    "def merge(x,y):\n",
    "    for xIndex, xItem in enumerate(x,start=0):\n",
    "        if y[0] < xItem:\n",
    "            x[xIndex] = y[0]\n",
    "            y[0] = xItem\n",
    "            sort(y)\n",
    "    print(x)\n",
    "    print(y)\n",
    "            \n",
    "            \n",
    "def sort(y):\n",
    "    for index in range(len(y) - 1):\n",
    "        if y[index] > y[index + 1]:\n",
    "            temp = y[index]\n",
    "            y[index] = y[index + 1]\n",
    "            y[index + 1] = temp\n",
    "        else:\n",
    "            break\n",
    "            \n",
    "            "
   ]
  },
  {
   "cell_type": "code",
   "execution_count": 5,
   "metadata": {},
   "outputs": [
    {
     "name": "stdout",
     "output_type": "stream",
     "text": [
      "Problem 1\n",
      "[1, 2, 3, 4, 7]\n",
      "[8, 9, 10]\n",
      "Problem 2\n",
      "[1, 2, 3]\n",
      "[4, 7, 8, 9, 10]\n",
      "Problem 3\n",
      "[1, 2, 3, 5, 8, 9]\n",
      "[10, 13, 15, 20]\n",
      "Problem 4\n",
      "[2]\n",
      "[3, 10]\n",
      "Problem 5\n",
      "[3, 9, 10, 27, 38]\n",
      "[43, 82]\n"
     ]
    }
   ],
   "source": [
    "print(\"Problem 1\")\n",
    "merge([ 1, 4, 7, 8, 10],[ 2, 3, 9 ])\n",
    "print(\"Problem 2\")\n",
    "merge([ 2, 3, 9 ],[ 1, 4, 7, 8, 10])\n",
    "print(\"Problem 3\")\n",
    "merge([1, 5, 9, 10, 15, 20],[2, 3, 8, 13])\n",
    "print(\"Problem 4\")\n",
    "merge([10],[2, 3])\n",
    "print(\"Problem 5\")\n",
    "merge([10, 27, 38, 43 ,82],[3, 9])\n"
   ]
  },
  {
   "cell_type": "code",
   "execution_count": null,
   "metadata": {},
   "outputs": [],
   "source": []
  }
 ],
 "metadata": {
  "kernelspec": {
   "display_name": "Python 3",
   "language": "python",
   "name": "python3"
  },
  "language_info": {
   "codemirror_mode": {
    "name": "ipython",
    "version": 3
   },
   "file_extension": ".py",
   "mimetype": "text/x-python",
   "name": "python",
   "nbconvert_exporter": "python",
   "pygments_lexer": "ipython3",
   "version": "3.7.3"
  }
 },
 "nbformat": 4,
 "nbformat_minor": 2
}

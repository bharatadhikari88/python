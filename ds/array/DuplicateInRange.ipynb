{
 "cells": [
  {
   "cell_type": "markdown",
   "metadata": {},
   "source": [
    "## Find a duplicate element in a limited range array"
   ]
  },
  {
   "cell_type": "markdown",
   "metadata": {},
   "source": [
    "## Index marking technique.\n",
    "\n",
    "Limitation:- \n",
    "1. number need to be positive.\n",
    "2. if length of array is n+1 then number must be less than n+1."
   ]
  },
  {
   "cell_type": "code",
   "execution_count": 20,
   "metadata": {},
   "outputs": [],
   "source": [
    "def duplicate(arr,min):\n",
    "    for a in arr:\n",
    "        a = abs(a);\n",
    "        i = a - min;\n",
    "        if arr[i] < 0 :\n",
    "            print(\"Duplicate {}\".format(a));\n",
    "        else:\n",
    "            arr[i] = -arr[i]\n"
   ]
  },
  {
   "cell_type": "code",
   "execution_count": 21,
   "metadata": {},
   "outputs": [
    {
     "name": "stdout",
     "output_type": "stream",
     "text": [
      "Problem 1\n",
      "Duplicate 6\n",
      "Duplicate 9\n",
      "Problem 2\n",
      "Duplicate 4\n",
      "Problem 3\n",
      "Duplicate 4\n",
      "Duplicate 1\n"
     ]
    }
   ],
   "source": [
    "print(\"Problem 1\")\n",
    "duplicate([5,6,6,8,9,9],5)    #range is 5 to 9\n",
    "print(\"Problem 2\")\n",
    "duplicate([ 1, 2, 3, 4, 4],1) #range is 1 to 4\n",
    "print(\"Problem 3\")\n",
    "duplicate([3, 4, 1, 4, 1],1)  #range is 1 to 4"
   ]
  },
  {
   "cell_type": "markdown",
   "metadata": {},
   "source": [
    "\n",
    "## Hashing"
   ]
  },
  {
   "cell_type": "code",
   "execution_count": 23,
   "metadata": {},
   "outputs": [
    {
     "name": "stdout",
     "output_type": "stream",
     "text": [
      "Duplicate 4\n",
      "Duplicate 1\n"
     ]
    }
   ],
   "source": [
    "dupHash = {}\n",
    "arr = [3, 4, 1, 4, 1]\n",
    "for a in arr:\n",
    "    if dupHash.get(a) != None:\n",
    "        print(\"Duplicate {}\".format(a));\n",
    "    else:\n",
    "        dupHash[a] = a\n"
   ]
  }
 ],
 "metadata": {
  "kernelspec": {
   "display_name": "Python 3",
   "language": "python",
   "name": "python3"
  },
  "language_info": {
   "codemirror_mode": {
    "name": "ipython",
    "version": 3
   },
   "file_extension": ".py",
   "mimetype": "text/x-python",
   "name": "python",
   "nbconvert_exporter": "python",
   "pygments_lexer": "ipython3",
   "version": "3.7.3"
  }
 },
 "nbformat": 4,
 "nbformat_minor": 2
}

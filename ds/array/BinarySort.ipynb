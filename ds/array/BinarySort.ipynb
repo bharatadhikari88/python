{
 "cells": [
  {
   "cell_type": "markdown",
   "metadata": {},
   "source": [
    "## Given an binary array, sort it in linear time and constant space. Output should print contain all zeroes followed by all ones."
   ]
  },
  {
   "cell_type": "code",
   "execution_count": 22,
   "metadata": {},
   "outputs": [
    {
     "data": {
      "text/plain": [
       "[0, 0, 0, 0, 1, 1, 1, 1, 1, 1]"
      ]
     },
     "execution_count": 22,
     "metadata": {},
     "output_type": "execute_result"
    }
   ],
   "source": [
    "arr = [ 1, 1, 0, 1, 1, 1, 1, 0, 0, 0 ] \n",
    "\n",
    "step1 = 0 \n",
    "\n",
    "step2 = 1\n",
    "\n",
    "while step2 < len(arr):   \n",
    "    if( arr[step1] == 0):\n",
    "        step1 += 1\n",
    "    elif( arr[step1] > arr[step2] ):\n",
    "        # swap\n",
    "        temp = arr[step1]\n",
    "        arr[step1] = arr[step2]\n",
    "        arr[step2] = temp\n",
    "        step1 += 1\n",
    "    step2 = step2 + 1\n",
    "    \n",
    "arr"
   ]
  },
  {
   "cell_type": "markdown",
   "metadata": {},
   "source": [
    "## sepearte positive negative"
   ]
  },
  {
   "cell_type": "code",
   "execution_count": 26,
   "metadata": {},
   "outputs": [
    {
     "data": {
      "text/plain": [
       "[3, 4, 3, 1, 3, 1, -7, -4, -2, -2]"
      ]
     },
     "execution_count": 26,
     "metadata": {},
     "output_type": "execute_result"
    }
   ],
   "source": [
    "arr = [ 3, 4, -7, 3, 1, 3, 1, -4, -2, -2 ] \n",
    "\n",
    "step1 = 0 \n",
    "\n",
    "step2 = 1\n",
    "\n",
    "while step2 < len(arr):\n",
    "    if ( arr[step1] > 0):\n",
    "        step1 += 1\n",
    "    elif( arr[step1] < 0 and arr[step2] > 0 ):\n",
    "        # swap\n",
    "        temp = arr[step1]\n",
    "        arr[step1] = arr[step2]\n",
    "        arr[step2] = temp\n",
    "        step1 += 1\n",
    "    step2 += 1\n",
    "    \n",
    "arr"
   ]
  }
 ],
 "metadata": {
  "kernelspec": {
   "display_name": "Python 3",
   "language": "python",
   "name": "python3"
  },
  "language_info": {
   "codemirror_mode": {
    "name": "ipython",
    "version": 3
   },
   "file_extension": ".py",
   "mimetype": "text/x-python",
   "name": "python",
   "nbconvert_exporter": "python",
   "pygments_lexer": "ipython3",
   "version": "3.7.3"
  }
 },
 "nbformat": 4,
 "nbformat_minor": 2
}

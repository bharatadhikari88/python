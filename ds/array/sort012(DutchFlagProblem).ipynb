{
 "cells": [
  {
   "cell_type": "markdown",
   "metadata": {},
   "source": [
    "## Sort an array containing 0’s, 1’s and 2’s (Dutch national flag problem)"
   ]
  },
  {
   "cell_type": "code",
   "execution_count": 3,
   "metadata": {},
   "outputs": [],
   "source": [
    "# approach :- 0 0 0 start1 1 1 1 end1 2 2 2 2\n",
    "def sort(x):\n",
    "    start1 = 0\n",
    "    end1 = 0\n",
    "    end = len(x) -1\n",
    "    \n",
    "    while( end1 <= end):\n",
    "        if x[end1] == 1:\n",
    "            end1 += 1 \n",
    "        elif x[end1] == 2:\n",
    "            swap(x, end1, end)\n",
    "            end -= 1\n",
    "        else:\n",
    "            if start1 != end1:\n",
    "                swap(x,start1,end1)\n",
    "            start1 += 1\n",
    "            end1   += 1\n",
    "    \n",
    "    print(x)   \n",
    "    \n",
    "                \n",
    "def swap(x,start,end):\n",
    "    temp = x[start]\n",
    "    x[start] = x[end]\n",
    "    x[end] = temp\n",
    "    "
   ]
  },
  {
   "cell_type": "code",
   "execution_count": 6,
   "metadata": {},
   "outputs": [
    {
     "name": "stdout",
     "output_type": "stream",
     "text": [
      "Problem 1\n",
      "[0, 0, 0, 0, 0, 1, 1, 1, 1, 2, 2, 2]\n",
      "Problem 2\n",
      "[0, 0, 0, 0, 0, 0, 2, 2, 2, 2, 2, 2]\n",
      "Problem 3\n",
      "[0, 0, 1, 1, 2, 2]\n",
      "Problem 3\n",
      "[0, 0, 0, 0, 0, 1, 1, 1, 1, 1, 2, 2]\n"
     ]
    }
   ],
   "source": [
    "print(\"Problem 1\")\n",
    "sort([ 0, 1, 2, 2, 1, 0, 0, 2, 0, 1, 1, 0 ])\n",
    "print(\"Problem 2\")\n",
    "sort([ 0, 0, 0, 2, 2, 2, 0, 2, 0, 2, 2, 0 ])\n",
    "print(\"Problem 3\")\n",
    "sort([ 0, 1, 2, 0, 1, 2 ])\n",
    "print(\"Problem 3\")\n",
    "sort([ 0, 1, 1, 0, 1, 2, 1, 2, 0, 0, 0, 1 ])"
   ]
  },
  {
   "cell_type": "markdown",
   "metadata": {},
   "source": [
    "## Generic solution using pivot"
   ]
  },
  {
   "cell_type": "code",
   "execution_count": null,
   "metadata": {},
   "outputs": [],
   "source": [
    "def pivot(x):\n",
    "    start = 0;\n",
    "    mid = 0\n",
    "    end = len(x) - 1\n",
    "    pivot = x[start]\n",
    "    \n",
    "    while :\n",
    "        if x[mid] < pivot:\n",
    "            swap(x, start, mid)\n",
    "            start += 1\n",
    "        else:\n",
    "            swap(x,start,end)\n",
    "            end -= 1\n",
    "            \n",
    "        if x[end] >= x[mid]:\n",
    "            end -= 1\n",
    "        else\n",
    "            swap(x,start,end)\n",
    "            start += 1\n",
    "    \n",
    "    print(x)\n",
    "    "
   ]
  }
 ],
 "metadata": {
  "kernelspec": {
   "display_name": "Python 3",
   "language": "python",
   "name": "python3"
  },
  "language_info": {
   "codemirror_mode": {
    "name": "ipython",
    "version": 3
   },
   "file_extension": ".py",
   "mimetype": "text/x-python",
   "name": "python",
   "nbconvert_exporter": "python",
   "pygments_lexer": "ipython3",
   "version": "3.7.3"
  }
 },
 "nbformat": 4,
 "nbformat_minor": 2
}

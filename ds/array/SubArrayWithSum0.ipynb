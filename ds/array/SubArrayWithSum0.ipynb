{
 "cells": [
  {
   "cell_type": "markdown",
   "metadata": {},
   "source": [
    "## Print all sub-arrays with 0 sum"
   ]
  },
  {
   "cell_type": "markdown",
   "metadata": {},
   "source": [
    "### [this is front part of the array] [sub array with zero sum] [this is back of the array]\n",
    "\n",
    "now suppose the sum of the front part of the array was sum1, this would have been stored in our set. And you keep on iterating. When you have reached the end of the sub array with 0 sum, Guess what should be the value of the sum variable be? well it should be sum of the front part + sum of the sub array with sum 0. Which is sum of the front part. There sum would be sum1, which is already present in the set. And the function returns true. "
   ]
  },
  {
   "cell_type": "code",
   "execution_count": 30,
   "metadata": {},
   "outputs": [
    {
     "name": "stdout",
     "output_type": "stream",
     "text": [
      "sub array 0 - 2 both inclusive\n",
      "sub array 1 - 3 both inclusive\n",
      "sub array 2 - 5 both inclusive\n",
      "sub array 5 - 7 both inclusive\n",
      "sub array 0 ,3 - 9 both inclusive\n"
     ]
    }
   ],
   "source": [
    "arr = [ 3, 4, -7, 3, 1, 3, 1, -4, -2, -2 ]\n",
    "\n",
    "sumSet = {0:0}   #key = sum and value = index\n",
    "sum = 0\n",
    "index = 1;\n",
    "for a in arr:\n",
    "    sum += a;\n",
    "    if( sumSet.get(sum) != None):\n",
    "        print(\"sub array {} - {} both inclusive\".format(sumSet.get(sum), index -1))\n",
    "        sumSet[sum] = str(sumSet[sum]) + \" ,\" + str(index);\n",
    "    else:\n",
    "        sumSet[sum] = index\n",
    "    index += 1\n"
   ]
  },
  {
   "cell_type": "markdown",
   "metadata": {},
   "source": [
    "## Print all sub-arrays with N sum"
   ]
  },
  {
   "cell_type": "code",
   "execution_count": 40,
   "metadata": {},
   "outputs": [
    {
     "name": "stdout",
     "output_type": "stream",
     "text": [
      "sub array 0 - 1 both inclusive\n",
      "sub array 0 ,3 - 5 both inclusive\n"
     ]
    },
    {
     "data": {
      "text/plain": [
       "{0: '0 ,3 ,10', 3: '1 ,4', 7: '2 ,6', 4: '5 ,8', 8: 7, 2: 9}"
      ]
     },
     "execution_count": 40,
     "metadata": {},
     "output_type": "execute_result"
    }
   ],
   "source": [
    "arr = [ 3, 4, -7, 3, 1, 3, 1, -4, -2, -2 ]\n",
    "\n",
    "sumSet = {0:0}   #key = sum and value = index\n",
    "sum = 0\n",
    "index = 1;\n",
    "N = 7;\n",
    "for a in arr:\n",
    "    sum += a;\n",
    "    if( sumSet.get(sum - N) != None):\n",
    "        print(\"sub array {} - {} both inclusive\".format(sumSet.get(sum - N), index -1))\n",
    "    if( sumSet.get(sum) == None):\n",
    "        sumSet[sum] = index\n",
    "    else:\n",
    "        sumSet[sum] = str(sumSet[sum]) + \" ,\" + str(index);\n",
    "    index += 1\n",
    "sumSet"
   ]
  }
 ],
 "metadata": {
  "kernelspec": {
   "display_name": "Python 3",
   "language": "python",
   "name": "python3"
  },
  "language_info": {
   "codemirror_mode": {
    "name": "ipython",
    "version": 3
   },
   "file_extension": ".py",
   "mimetype": "text/x-python",
   "name": "python",
   "nbconvert_exporter": "python",
   "pygments_lexer": "ipython3",
   "version": "3.7.3"
  }
 },
 "nbformat": 4,
 "nbformat_minor": 2
}

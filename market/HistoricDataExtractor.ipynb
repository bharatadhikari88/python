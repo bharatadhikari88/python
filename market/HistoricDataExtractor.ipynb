{
 "cells": [
  {
   "cell_type": "code",
   "execution_count": 7,
   "metadata": {},
   "outputs": [],
   "source": [
    "from py.Extractor import Extractor\n",
    "import nsepy as nsepy\n",
    "import datetime as dt\n",
    "from pandas import DataFrame\n",
    "from os import path\n",
    "from urllib.parse import quote\n",
    "import sys"
   ]
  },
  {
   "cell_type": "code",
   "execution_count": 13,
   "metadata": {},
   "outputs": [],
   "source": [
    "class HistoricData:\n",
    "    extractor = Extractor()\n",
    "    startDate = dt.date.today()\n",
    "    endDate = dt.date.today()\n",
    "        \n",
    "    def __init__(self,startDate=None,endDate=None):        \n",
    "        if startDate is not None:\n",
    "            self.startDate = dt.datetime.strptime(startDate,\"%Y-%m-%d\")\n",
    "        if endDate is not None:\n",
    "            self.endDate = dt.datetime.strptime(endDate,\"%Y-%m-%d\")\n",
    "            \n",
    "    def writeToCsv(self,stock):\n",
    "        filePath = self.extractor.BASE_FOLDER + stock + \".csv\"\n",
    "\n",
    "        record = nsepy.get_history(symbol=quote(stock), start=self.startDate, end=self.endDate)\n",
    "        record.reset_index(level=0, inplace=True)\n",
    "        record[\"PClose\"] = record[\"Prev Close\"]\n",
    "\n",
    "        df = DataFrame(record,columns=['Date','PClose','Open','High','Low','Close'])\n",
    "\n",
    "        if path.exists(filePath):\n",
    "            df.to_csv(filePath,mode='a',index=False, header=False)\n",
    "        else:\n",
    "            df.to_csv(filePath,index=False)\n",
    "            \n",
    "      \n",
    "    def extractHistoricData(self):\n",
    "        list(map(self.writeToCsv,self.extractor.getValidStockNames()))\n",
    "        \n",
    "        \n"
   ]
  },
  {
   "cell_type": "code",
   "execution_count": 14,
   "metadata": {},
   "outputs": [
    {
     "name": "stdout",
     "output_type": "stream",
     "text": [
      "Start date(eg: 2019-11-31) 2019-3-3\n",
      "End date(eg: 2019-11-31) 2019-3-10\n",
      "DSF is invalid.\n",
      "BFF is invalid.\n",
      "PND is invalid.\n"
     ]
    }
   ],
   "source": [
    "if __name__== \"__main__\":\n",
    "    #if len(sys.argv) == 3:\n",
    "     #   HistoricData(sys.argv[1],sys.argv[2]).extractHistoricData()\n",
    "    #else:\n",
    "        HistoricData(input(\"Start date(eg: 2019-11-31) \"),input(\"End date(eg: 2019-11-31) \")).extractHistoricData()\n"
   ]
  },
  {
   "cell_type": "code",
   "execution_count": null,
   "metadata": {},
   "outputs": [],
   "source": []
  }
 ],
 "metadata": {
  "kernelspec": {
   "display_name": "Python 3",
   "language": "python",
   "name": "python3"
  },
  "language_info": {
   "codemirror_mode": {
    "name": "ipython",
    "version": 3
   },
   "file_extension": ".py",
   "mimetype": "text/x-python",
   "name": "python",
   "nbconvert_exporter": "python",
   "pygments_lexer": "ipython3",
   "version": "3.7.3"
  }
 },
 "nbformat": 4,
 "nbformat_minor": 2
}

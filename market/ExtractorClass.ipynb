{
 "cells": [
  {
   "cell_type": "code",
   "execution_count": 8,
   "metadata": {},
   "outputs": [],
   "source": [
    "from nsetools import Nse\n",
    "from pandas import DataFrame\n",
    "from os import path\n",
    "from urllib.parse import quote\n",
    "import nsepy as nsepy\n",
    "import pandas as pd\n",
    "import numpy as np"
   ]
  },
  {
   "cell_type": "code",
   "execution_count": 38,
   "metadata": {},
   "outputs": [],
   "source": [
    "class Extractor:\n",
    "    nse = Nse()\n",
    "    BASE_FOLDER = \"stocks/\"\n",
    "    LOOK_UP_FILE = \"stock_lookup.csv\"\n",
    "    stockNameKey = {}\n",
    "\n",
    "    def getAllStockNames(self):\n",
    "        stockCodes = self.nse.get_stock_codes()\n",
    "        if stockCodes.get('SYMBOL'):\n",
    "            del stockCodes['SYMBOL'] \n",
    "            \n",
    "        self.stockNameKey = dict(map(reversed,stockCodes.items()))\n",
    "        return list(self.stockNameKey.keys())\n",
    "        \n",
    "    def getValidStockNames(self):\n",
    "        stocks = list(pd.read_csv(self.LOOK_UP_FILE)[\"Stock Names or Symbol\"])\n",
    "        validStocks = []\n",
    "        stockNames = self.getAllStockNames()\n",
    "\n",
    "        for stock in stocks:\n",
    "            if self.nse.is_valid_code(stock):\n",
    "                validStocks.append(stock)\n",
    "            else:\n",
    "                found = False\n",
    "                for stockName in stockNames:\n",
    "                    if stockName.find(stock) > -1:\n",
    "                        validStocks.append(self.stockNameKey.get(stockName))\n",
    "                        found = True\n",
    "                        break\n",
    "                if not found:\n",
    "                    print(\"{} is invalid entry in {}.\".format(stock,self.LOOK_UP_FILE))\n",
    "        return validStocks\n",
    "    \n",
    "    def writeToCsv(self,stock):\n",
    "        filePath = self.BASE_FOLDER + stock + \".csv\"\n",
    "\n",
    "        record = nsepy.get_quote(quote(stock))\n",
    "\n",
    "        df = DataFrame(data=[[dt.datetime.now().date(),record['previousClose'],record['open'],record['dayHigh'],record['dayLow'],record['lastPrice']]],\n",
    "                       columns=['Date','PClose','Open','High','Low','Close'])\n",
    "\n",
    "        #df.reset_index(level=0, inplace=True)\n",
    "\n",
    "        if path.exists(filePath):\n",
    "            df.to_csv(filePath,mode='a',index=False, header=False)\n",
    "        else:\n",
    "            df.to_csv(filePath,index=False)\n",
    "            \n",
    "    def extract(self):\n",
    "        list(map(self.writeToCsv,self.getValidStockNames()))\n",
    "    "
   ]
  },
  {
   "cell_type": "code",
   "execution_count": 39,
   "metadata": {},
   "outputs": [
    {
     "name": "stdout",
     "output_type": "stream",
     "text": [
      "DSF is invalid entry in stock_lookup.csv.\n",
      "BFF is invalid entry in stock_lookup.csv.\n",
      "PND is invalid entry in stock_lookup.csv.\n"
     ]
    }
   ],
   "source": [
    "if __name__== \"__main__\":\n",
    "    Extractor().extract()"
   ]
  }
 ],
 "metadata": {
  "kernelspec": {
   "display_name": "Python 3",
   "language": "python",
   "name": "python3"
  },
  "language_info": {
   "codemirror_mode": {
    "name": "ipython",
    "version": 3
   },
   "file_extension": ".py",
   "mimetype": "text/x-python",
   "name": "python",
   "nbconvert_exporter": "python",
   "pygments_lexer": "ipython3",
   "version": "3.7.3"
  }
 },
 "nbformat": 4,
 "nbformat_minor": 2
}

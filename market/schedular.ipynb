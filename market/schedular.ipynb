{
 "cells": [
  {
   "cell_type": "code",
   "execution_count": null,
   "metadata": {},
   "outputs": [],
   "source": [
    "### Extract stock prices. every day, five day a week@ 4pm"
   ]
  },
  {
   "cell_type": "code",
   "execution_count": 1,
   "metadata": {},
   "outputs": [],
   "source": [
    "### TODO test on system which has crontab permission\n",
    "#from crontab import CronTab\n",
    "#cron = CronTab(tab=\"\"\"*/1 *  * * 0-5 python3 extractor.py\"\"\")\n",
    "#job = cron.new(command=\"python3 extractor.py\")\n",
    "#job.minute.every(1)\n",
    "#cron.write()"
   ]
  },
  {
   "cell_type": "code",
   "execution_count": null,
   "metadata": {},
   "outputs": [],
   "source": [
    "import os\n",
    "import schedule\n",
    "import time\n",
    "from py.Extractor import Extractor\n",
    "\n",
    "def runExtractor():\n",
    "    Extractor().extract()\n",
    "\n",
    "schedule.every().monday.at(\"16:00\").do(runExtractor)\n",
    "schedule.every().tuesday.at(\"16:00\").do(runExtractor)\n",
    "schedule.every().wednesday.at(\"16:00\").do(runExtractor)\n",
    "schedule.every().thursday.at(\"16:00\").do(runExtractor)\n",
    "schedule.every().friday.at(\"16:00\").do(runExtractor)\n",
    "\n",
    "if __name__== \"__main__\":\n",
    "    while True:\n",
    "        print(\"Looking for pending jobs\")\n",
    "        schedule.run_pending()\n",
    "        time.sleep(60*60) ## every hour"
   ]
  }
 ],
 "metadata": {
  "kernelspec": {
   "display_name": "Python 3",
   "language": "python",
   "name": "python3"
  },
  "language_info": {
   "codemirror_mode": {
    "name": "ipython",
    "version": 3
   },
   "file_extension": ".py",
   "mimetype": "text/x-python",
   "name": "python",
   "nbconvert_exporter": "python",
   "pygments_lexer": "ipython3",
   "version": "3.7.3"
  }
 },
 "nbformat": 4,
 "nbformat_minor": 2
}

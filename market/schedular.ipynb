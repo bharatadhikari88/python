{
 "cells": [
  {
   "cell_type": "code",
   "execution_count": null,
   "metadata": {},
   "outputs": [],
   "source": [
    "### Extract stock prices. every day, five day a week@ 4pm"
   ]
  },
  {
   "cell_type": "code",
   "execution_count": 1,
   "metadata": {},
   "outputs": [],
   "source": [
    "### TODO test on system which has crontab permission\n",
    "#from crontab import CronTab\n",
    "#cron = CronTab(tab=\"\"\"*/1 *  * * 0-5 python3 extractor.py\"\"\")\n",
    "#job = cron.new(command=\"python3 extractor.py\")\n",
    "#job.minute.every(1)\n",
    "#cron.write()"
   ]
  },
  {
   "cell_type": "code",
   "execution_count": 15,
   "metadata": {},
   "outputs": [
    {
     "name": "stdout",
     "output_type": "stream",
     "text": [
      "1\n",
      "1\n",
      "1\n"
     ]
    },
    {
     "ename": "KeyboardInterrupt",
     "evalue": "",
     "output_type": "error",
     "traceback": [
      "\u001b[0;31m---------------------------------------------------------------------------\u001b[0m",
      "\u001b[0;31mKeyboardInterrupt\u001b[0m                         Traceback (most recent call last)",
      "\u001b[0;32m<ipython-input-15-337748ed28c3>\u001b[0m in \u001b[0;36m<module>\u001b[0;34m\u001b[0m\n\u001b[1;32m     16\u001b[0m     \u001b[0mprint\u001b[0m\u001b[0;34m(\u001b[0m\u001b[0;34m\"1\"\u001b[0m\u001b[0;34m)\u001b[0m\u001b[0;34m\u001b[0m\u001b[0;34m\u001b[0m\u001b[0m\n\u001b[1;32m     17\u001b[0m     \u001b[0mschedule\u001b[0m\u001b[0;34m.\u001b[0m\u001b[0mrun_pending\u001b[0m\u001b[0;34m(\u001b[0m\u001b[0;34m)\u001b[0m\u001b[0;34m\u001b[0m\u001b[0;34m\u001b[0m\u001b[0m\n\u001b[0;32m---> 18\u001b[0;31m     \u001b[0mtime\u001b[0m\u001b[0;34m.\u001b[0m\u001b[0msleep\u001b[0m\u001b[0;34m(\u001b[0m\u001b[0;36m60\u001b[0m\u001b[0;34m)\u001b[0m\u001b[0;34m\u001b[0m\u001b[0;34m\u001b[0m\u001b[0m\n\u001b[0m",
      "\u001b[0;31mKeyboardInterrupt\u001b[0m: "
     ]
    }
   ],
   "source": [
    "import os\n",
    "import schedule\n",
    "import time\n",
    "\n",
    "def runExtractor():\n",
    "    os.system('python3 extractor.py')\n",
    "\n",
    "schedule.every().monday.at(\"16:00\").do(runExtractor)\n",
    "schedule.every().tuesday.at(\"16:00\").do(runExtractor)\n",
    "schedule.every().wednesday.at(\"16:00\").do(runExtractor)\n",
    "schedule.every().thursday.at(\"16:00\").do(runExtractor)\n",
    "schedule.every().friday.at(\"16:00\").do(runExtractor)\n",
    "\n",
    "while True:\n",
    "    print(\"Looking for pending jobs\")\n",
    "    schedule.run_pending()\n",
    "    time.sleep(60*60) ## every hour"
   ]
  }
 ],
 "metadata": {
  "kernelspec": {
   "display_name": "Python 3",
   "language": "python",
   "name": "python3"
  }
 },
 "nbformat": 4,
 "nbformat_minor": 2
}
